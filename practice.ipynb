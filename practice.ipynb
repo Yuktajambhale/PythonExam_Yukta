{
 "cells": [
  {
   "cell_type": "code",
   "execution_count": 11,
   "id": "995fd0bf-44d0-4a8c-b32e-cdacab8fd12b",
   "metadata": {},
   "outputs": [
    {
     "name": "stdout",
     "output_type": "stream",
     "text": [
      "1,4,9,16,25,36,49,64,81,100,"
     ]
    }
   ],
   "source": [
    "def square_number(num):\n",
    "    for num in range(1,11):\n",
    "        print(num**2,end=\",\")\n",
    "\n",
    "square_number(4)"
   ]
  },
  {
   "cell_type": "code",
   "execution_count": 17,
   "id": "6ec6453c-5b97-487f-8b28-dcbe4310f92b",
   "metadata": {},
   "outputs": [
    {
     "name": "stdout",
     "output_type": "stream",
     "text": [
      "1,4,9,16,25,36,49,64,81,100,"
     ]
    }
   ],
   "source": [
    "def suare_number():\n",
    "    for i in range(1,11):\n",
    "        print(i**2,end=\",\")\n",
    "\n",
    "suare_number()"
   ]
  },
  {
   "cell_type": "code",
   "execution_count": 25,
   "id": "a56aef97-3554-4c15-a100-be5bc76a4235",
   "metadata": {},
   "outputs": [
    {
     "name": "stdout",
     "output_type": "stream",
     "text": [
      "a: 4\n",
      "b: 3\n"
     ]
    }
   ],
   "source": [
    "def swap_num(a,b):\n",
    "    a,b=b,a\n",
    "    print(\"a:\",a)\n",
    "    print(\"b:\",b)\n",
    "\n",
    "swap_num(3,4)"
   ]
  },
  {
   "cell_type": "code",
   "execution_count": 27,
   "id": "b7d2c6ab-b3ad-49fc-a6ff-9d80cff5a6f6",
   "metadata": {},
   "outputs": [
    {
     "ename": "SyntaxError",
     "evalue": "invalid syntax (650864827.py, line 3)",
     "output_type": "error",
     "traceback": [
      "\u001b[1;36m  Cell \u001b[1;32mIn[27], line 3\u001b[1;36m\u001b[0m\n\u001b[1;33m    print(max()):\u001b[0m\n\u001b[1;37m                ^\u001b[0m\n\u001b[1;31mSyntaxError\u001b[0m\u001b[1;31m:\u001b[0m invalid syntax\n"
     ]
    }
   ],
   "source": [
    "#Write a Python function that takes a list of integers as input and returns the maximum number in the list.\n",
    "def max_num():\n",
    "    print(max()):\n",
    "\n",
    "max_num=[4,5,6,7]\n",
    "\n"
   ]
  },
  {
   "cell_type": "code",
   "execution_count": 29,
   "id": "3bce1d33-db03-4e7e-99d3-9b8fc2f4f592",
   "metadata": {},
   "outputs": [
    {
     "name": "stdout",
     "output_type": "stream",
     "text": [
      "max num 7\n"
     ]
    }
   ],
   "source": [
    "def find_max(number):\n",
    "    return max(number)\n",
    "nums=[3,4,5,6,7]\n",
    "print(\"max num\",find_max(nums))\n"
   ]
  },
  {
   "cell_type": "code",
   "execution_count": 31,
   "id": "aba21d58-bda1-48c4-acea-f48f7d240ae0",
   "metadata": {},
   "outputs": [
    {
     "name": "stdout",
     "output_type": "stream",
     "text": [
      "1,4,9,16,25,36,49,64,81,100,"
     ]
    }
   ],
   "source": [
    "def square_num():\n",
    "    for i in range(1,11):\n",
    "        print(i**2,end=\",\")\n",
    "\n",
    "square_num()\n"
   ]
  },
  {
   "cell_type": "code",
   "execution_count": 39,
   "id": "f33e10ee-a1cd-49b0-b9b2-97237ab77aa9",
   "metadata": {},
   "outputs": [
    {
     "name": "stdout",
     "output_type": "stream",
     "text": [
      "a: 4\n",
      "b: 3\n"
     ]
    }
   ],
   "source": [
    "def swap_number(a,b):\n",
    "    a,b=b,a\n",
    "    print(\"a:\",a)\n",
    "    print(\"b:\",b)\n",
    "\n",
    "swap_number(3,4)"
   ]
  },
  {
   "cell_type": "code",
   "execution_count": 43,
   "id": "ceb7cd9e-37f0-4ad2-9aaa-921beb7e6ede",
   "metadata": {},
   "outputs": [
    {
     "name": "stdout",
     "output_type": "stream",
     "text": [
      "max_num 8\n"
     ]
    }
   ],
   "source": [
    "def max_num(number):\n",
    "    return max(number)\n",
    "\n",
    "number=[4,5,6,7,8]\n",
    "print(\"max_num\",max_num(number))"
   ]
  },
  {
   "cell_type": "code",
   "execution_count": 49,
   "id": "3e79efb8-47e9-438c-baf3-663883f1d364",
   "metadata": {},
   "outputs": [
    {
     "name": "stdout",
     "output_type": "stream",
     "text": [
      "it is a anagram True\n"
     ]
    }
   ],
   "source": [
    "def anagram(w1,w2):\n",
    "    return sorted((w1))==sorted((w2))\n",
    "\n",
    "word1=\"listen\"\n",
    "word2=\"silent\"\n",
    "print(\"it is a anagram\",anagram(word1,word2))"
   ]
  },
  {
   "cell_type": "code",
   "execution_count": 53,
   "id": "a15491d5-bfdf-4f1d-8a39-6df39577fa89",
   "metadata": {},
   "outputs": [
    {
     "name": "stdout",
     "output_type": "stream",
     "text": [
      "it is a palindrome\n"
     ]
    }
   ],
   "source": [
    "def palindrome(w):\n",
    "    return w ==w[::-1]\n",
    "word=\"madam\"\n",
    "if palindrome(word):\n",
    "    print(\"it is a palindrome\")\n",
    "else:\n",
    "    print(\"it is not\")\n",
    "    "
   ]
  },
  {
   "cell_type": "code",
   "execution_count": 61,
   "id": "c21c543c-8733-4c33-8d3e-e334784fb039",
   "metadata": {},
   "outputs": [
    {
     "name": "stdout",
     "output_type": "stream",
     "text": [
      "common element [4, 5, 6, 7]\n"
     ]
    }
   ],
   "source": [
    "#Write a Python program that takes two lists of integers as input and returns a new list containing only the common elements of both lists. using function is easy way\n",
    "def common_elements(list1,list2):\n",
    "    return list(set(list1)&set(list2))\n",
    "\n",
    "list1=[3,4,5,6,7]\n",
    "list2=[4,5,6,7,7]\n",
    "print(\"common element\",common_elements(list1,list2))"
   ]
  },
  {
   "cell_type": "code",
   "execution_count": 71,
   "id": "cbd1e713-f9e5-485b-ad78-bce485754d88",
   "metadata": {},
   "outputs": [
    {
     "name": "stdin",
     "output_type": "stream",
     "text": [
      "enter the number \n"
     ]
    },
    {
     "name": "stdout",
     "output_type": "stream",
     "text": [
      "a False <class 'bool'>\n"
     ]
    }
   ],
   "source": [
    "a=bool(input(\"enter the number\"))\n",
    "print(\"a\",a,type(a))\n",
    "       "
   ]
  },
  {
   "cell_type": "code",
   "execution_count": 73,
   "id": "ff6ef422-a2df-4a5a-87d3-f5754d42cf4a",
   "metadata": {},
   "outputs": [
    {
     "name": "stdout",
     "output_type": "stream",
     "text": [
      "common elements [7]\n"
     ]
    }
   ],
   "source": [
    "def common_elements(list1,list2):\n",
    "    return list(set(list1)&set(list2))\n",
    "\n",
    "list1=[3,4,5,6,7]\n",
    "list2=[1,2,7,8,0]\n",
    "print(\"common elements\",common_elements(list1,list2))"
   ]
  },
  {
   "cell_type": "code",
   "execution_count": 85,
   "id": "a7731160-b531-4b7b-a3d3-30edf0625cfa",
   "metadata": {},
   "outputs": [
    {
     "name": "stdout",
     "output_type": "stream",
     "text": [
      "it is a palindrome\n"
     ]
    }
   ],
   "source": [
    "def palindrome(w):\n",
    "    return w ==w[::-1]\n",
    "\n",
    "word=\"madam\"\n",
    "if palindrome(word):\n",
    "    print(\"it is a palindrome\")\n",
    "else:\n",
    "    print(\"it is not palindrome\")\n"
   ]
  },
  {
   "cell_type": "code",
   "execution_count": 87,
   "id": "cda1b4bf-a28e-4729-8234-f09c1fedc0de",
   "metadata": {},
   "outputs": [
    {
     "name": "stdout",
     "output_type": "stream",
     "text": [
      "sum is 20\n"
     ]
    }
   ],
   "source": [
    "def sum_list(number):\n",
    "    return sum(number)\n",
    "\n",
    "num=[2,3,4,5,6]\n",
    "print(\"sum is\",sum_list(num))\n"
   ]
  },
  {
   "cell_type": "code",
   "execution_count": 89,
   "id": "710a9dde-0d75-476d-9842-006b2389fa19",
   "metadata": {},
   "outputs": [
    {
     "ename": "RecursionError",
     "evalue": "maximum recursion depth exceeded",
     "output_type": "error",
     "traceback": [
      "\u001b[1;31m---------------------------------------------------------------------------\u001b[0m",
      "\u001b[1;31mRecursionError\u001b[0m                            Traceback (most recent call last)",
      "Cell \u001b[1;32mIn[89], line 5\u001b[0m\n\u001b[0;32m      3\u001b[0m     \u001b[38;5;28;01mreturn\u001b[39;00m \u001b[38;5;28mlist\u001b[39m(\u001b[38;5;28mset\u001b[39m(number))\n\u001b[0;32m      4\u001b[0m list1\u001b[38;5;241m=\u001b[39m[\u001b[38;5;241m3\u001b[39m,\u001b[38;5;241m4\u001b[39m,\u001b[38;5;241m5\u001b[39m,\u001b[38;5;241m5\u001b[39m,\u001b[38;5;241m6\u001b[39m,\u001b[38;5;241m7\u001b[39m]\n\u001b[1;32m----> 5\u001b[0m \u001b[38;5;28mprint\u001b[39m(\u001b[38;5;124m\"\u001b[39m\u001b[38;5;124mduplicate number\u001b[39m\u001b[38;5;124m\"\u001b[39m,\u001b[38;5;28mlist\u001b[39m(list1))\n",
      "Cell \u001b[1;32mIn[89], line 3\u001b[0m, in \u001b[0;36mlist\u001b[1;34m(number)\u001b[0m\n\u001b[0;32m      2\u001b[0m \u001b[38;5;28;01mdef\u001b[39;00m \u001b[38;5;21mlist\u001b[39m(number):\n\u001b[1;32m----> 3\u001b[0m     \u001b[38;5;28;01mreturn\u001b[39;00m \u001b[38;5;28mlist\u001b[39m(\u001b[38;5;28mset\u001b[39m(number))\n",
      "Cell \u001b[1;32mIn[89], line 3\u001b[0m, in \u001b[0;36mlist\u001b[1;34m(number)\u001b[0m\n\u001b[0;32m      2\u001b[0m \u001b[38;5;28;01mdef\u001b[39;00m \u001b[38;5;21mlist\u001b[39m(number):\n\u001b[1;32m----> 3\u001b[0m     \u001b[38;5;28;01mreturn\u001b[39;00m \u001b[38;5;28mlist\u001b[39m(\u001b[38;5;28mset\u001b[39m(number))\n",
      "    \u001b[1;31m[... skipping similar frames: list at line 3 (2974 times)]\u001b[0m\n",
      "Cell \u001b[1;32mIn[89], line 3\u001b[0m, in \u001b[0;36mlist\u001b[1;34m(number)\u001b[0m\n\u001b[0;32m      2\u001b[0m \u001b[38;5;28;01mdef\u001b[39;00m \u001b[38;5;21mlist\u001b[39m(number):\n\u001b[1;32m----> 3\u001b[0m     \u001b[38;5;28;01mreturn\u001b[39;00m \u001b[38;5;28mlist\u001b[39m(\u001b[38;5;28mset\u001b[39m(number))\n",
      "\u001b[1;31mRecursionError\u001b[0m: maximum recursion depth exceeded"
     ]
    }
   ],
   "source": [
    "#Write a Python program to remove duplicates from a list.\n",
    "def list(number):\n",
    "    return list(set(number))\n",
    "list1=[3,4,5,5,6,7]\n",
    "print(\"duplicate number\",list(list1))"
   ]
  }
 ],
 "metadata": {
  "kernelspec": {
   "display_name": "Python [conda env:base] *",
   "language": "python",
   "name": "conda-base-py"
  },
  "language_info": {
   "codemirror_mode": {
    "name": "ipython",
    "version": 3
   },
   "file_extension": ".py",
   "mimetype": "text/x-python",
   "name": "python",
   "nbconvert_exporter": "python",
   "pygments_lexer": "ipython3",
   "version": "3.12.7"
  }
 },
 "nbformat": 4,
 "nbformat_minor": 5
}
